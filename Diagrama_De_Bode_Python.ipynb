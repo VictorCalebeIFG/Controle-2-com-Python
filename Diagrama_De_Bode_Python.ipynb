{
  "nbformat": 4,
  "nbformat_minor": 0,
  "metadata": {
    "colab": {
      "name": "Diagrama De Bode Python.ipynb",
      "provenance": []
    },
    "kernelspec": {
      "name": "python3",
      "display_name": "Python 3"
    },
    "language_info": {
      "name": "python"
    }
  },
  "cells": [
    {
      "cell_type": "markdown",
      "metadata": {
        "id": "9FuXQSKaFVSP"
      },
      "source": [
        "<h1>DIAGRAMA DE BODE COM PYTHON:</h1>\n",
        "\n",
        "\n",
        "---\n",
        "\n",
        "\n",
        "<h3>Aluno:$\\ Victor\\ Calebe\\ Cavalcante\\ de\\ Macedo$</h3>\n",
        "\n",
        "\n",
        "---\n",
        "\n",
        "\n",
        "\n",
        "---\n",
        "\n",
        "\n",
        "\n",
        "1.   Este jupyter notebook é um exemplo de diagrama de bode feito em python. Acharemos a margem de ganho e margem de fase.\n",
        "2.   CTRL+F9 para executar todas as células\n",
        "\n",
        "\n"
      ]
    },
    {
      "cell_type": "markdown",
      "metadata": {
        "id": "j-7KSqGMMjt1"
      },
      "source": [
        "# $Bibliotecas\\ e\\ SetUp:$"
      ]
    },
    {
      "cell_type": "code",
      "metadata": {
        "id": "b6YSm08JFEgs"
      },
      "source": [
        "%%capture test \n",
        "#Esse comando esconde o output da celula, não faz diferença só serve pra deixar o jupyter mais \"limpo\". (pode ser retirado)\n",
        "#--- --- --- ---\n",
        "!pip install control\n",
        "#Esse comando baixa o módulo control no ambiente de execução caso esteja sendo usado o Google Colab\n",
        "#--- --- --- ---\n",
        "import numpy as np\n",
        "from pylab import plot\n",
        "import control\n",
        "import warnings\n",
        "#Baixa outras bibliotecas.\n",
        "#--- --- --- ---\n",
        "warnings.filterwarnings('ignore')"
      ],
      "execution_count": 14,
      "outputs": []
    },
    {
      "cell_type": "markdown",
      "metadata": {
        "id": "i3NHiT7FN76c"
      },
      "source": [
        "<h1> $Traçando\\ os\\ gráficos:$</h1>\n",
        "\n"
      ]
    },
    {
      "cell_type": "markdown",
      "metadata": {
        "id": "oV9F58Y8Pkho"
      },
      "source": [
        "Exemplo 1:<h2>$\\begin{align}G(s) = \\frac{10}{s(s+5)(s+2)} \\end{align}$</h2>"
      ]
    },
    {
      "cell_type": "code",
      "metadata": {
        "colab": {
          "base_uri": "https://localhost:8080/",
          "height": 301
        },
        "id": "I0plO880OFvF",
        "outputId": "fab5e3c2-9e45-46ad-bef4-4e2c73955884"
      },
      "source": [
        "s = control.TransferFunction.s\n",
        "G  = (10)/(s*(s+5)*(s+2))\n",
        "control.bode(G,dB=True)\n",
        "plot()"
      ],
      "execution_count": 15,
      "outputs": [
        {
          "output_type": "execute_result",
          "data": {
            "text/plain": [
              "[]"
            ]
          },
          "metadata": {
            "tags": []
          },
          "execution_count": 15
        },
        {
          "output_type": "display_data",
          "data": {
            "image/png": "[encoded data removed]",
            "text/plain": [
              "<Figure size 432x288 with 2 Axes>"
            ]
          },
          "metadata": {
            "tags": [],
            "needs_background": "light"
          }
        }
      ]
    },
    {
      "cell_type": "markdown",
      "metadata": {
        "id": "IzdjBCwF6NEf"
      },
      "source": [
        "<h1> $Margem\\ de\\ ganho\\ e\\ de\\ fase:$</h1>\n",
        "\n"
      ]
    },
    {
      "cell_type": "code",
      "metadata": {
        "colab": {
          "base_uri": "https://localhost:8080/"
        },
        "id": "UcSlP5_cSQuV",
        "outputId": "fb373fe9-a341-4ee6-f617-f538fd9b3da4"
      },
      "source": [
        "gm, pm, wg, wp = control.margin(G)\n",
        "print(\"Margem de Ganho: \"+str(gm)+' db\\n')\n",
        "print(\"Frequência no ponto da Marge de Ganho: \"+str(wg)+' rad/s\\n')\n",
        "print(\"Margem de Fase: \"+str(pm)+' graus\\n')\n",
        "print(\"Frequência no ponto da Marge de Fase: \"+str(wp)+' rad/s\\n')"
      ],
      "execution_count": 19,
      "outputs": [
        {
          "output_type": "stream",
          "text": [
            "Margem de Ganho: 7.0 db\n",
            "\n",
            "Frequência no ponto da Marge de Ganho: 3.1622776601683795 rad/s\n",
            "\n",
            "Margem de Fase: 55.64117265273913 graus\n",
            "\n",
            "Frequência no ponto da Marge de Fase: 0.8979134005379903 rad/s\n",
            "\n"
          ],
          "name": "stdout"
        }
      ]
    }
  ]
}